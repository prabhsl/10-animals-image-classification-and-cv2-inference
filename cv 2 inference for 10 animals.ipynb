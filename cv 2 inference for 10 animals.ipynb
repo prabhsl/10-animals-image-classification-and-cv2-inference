{
 "cells": [
  {
   "cell_type": "code",
   "execution_count": 59,
   "metadata": {},
   "outputs": [],
   "source": [
    "import cv2\n",
    "import tensorflow as tf \n",
    "import numpy as np\n",
    "\n",
    "# defining class names\n",
    "\n",
    "class_names = ['butterfly', 'cat', 'chicken', 'cow', 'dog', 'elephant', 'horse', 'sheep', 'spider', 'squirrel']"
   ]
  },
  {
   "cell_type": "code",
   "execution_count": 60,
   "metadata": {},
   "outputs": [],
   "source": [
    "#importing model saved in tflite format\n",
    "\n",
    "TF_MODEL_FILE_PATH = r\"W:\\tensorflow\\models/10 animals.tflite\"\n",
    "\n",
    "interpreter = tf.lite.Interpreter(TF_MODEL_FILE_PATH)"
   ]
  },
  {
   "cell_type": "code",
   "execution_count": 61,
   "metadata": {},
   "outputs": [
    {
     "data": {
      "text/plain": [
       "{'serving_default': {'inputs': ['rescaling_1_input'], 'outputs': ['dense_3']}}"
      ]
     },
     "execution_count": 61,
     "metadata": {},
     "output_type": "execute_result"
    }
   ],
   "source": [
    "#getting input and output layers\n",
    "\n",
    "interpreter.get_signature_list()"
   ]
  },
  {
   "cell_type": "code",
   "execution_count": 62,
   "metadata": {},
   "outputs": [],
   "source": [
    "# making a classifier for inferencing using the trained model  \n",
    "\n",
    "classifier = interpreter.get_signature_runner()"
   ]
  },
  {
   "cell_type": "code",
   "execution_count": 63,
   "metadata": {},
   "outputs": [
    {
     "name": "stdout",
     "output_type": "stream",
     "text": [
      "the image belongs to sheep with the confidence of 0.8485399484634399\n"
     ]
    }
   ],
   "source": [
    "image_path = r\"W:\\tensorflow\\10 animals\\prediction_test.jpg\"\n",
    "\n",
    "pred_image = tf.keras.utils.load_img(image_path , target_size= (150, 150))\n",
    "\n",
    "# converting image to float32 so the model can accept the image\n",
    "pred_image = np.float32(pred_image)\n",
    "\n",
    "# creating batch\n",
    "image_array = tf.expand_dims(pred_image, 0)\n",
    "\n",
    "predictions = classifier(rescaling_1_input= image_array)[\"dense_3\"]\n",
    "# scaling the logits returned by prediction into probabilities\n",
    "score = tf.nn.softmax(predictions)\n",
    "\n",
    "# argmax returns the index\n",
    "print(f\"the image belongs to {class_names[np.argmax(score)]} with the confidence of {np.max(score)}\")"
   ]
  },
  {
   "cell_type": "code",
   "execution_count": 64,
   "metadata": {},
   "outputs": [
    {
     "name": "stdout",
     "output_type": "stream",
     "text": [
      "sheep (84.85%)\n"
     ]
    }
   ],
   "source": [
    "# defining the string that will be shown on the image. it includes the class name and the confidence is multiplied by 100 and only shown with upto two decimal places\n",
    "result_string = f\"{class_names[np.argmax(score)]} ({100 * np.max(score):.2f}%)\"\n",
    "print(result_string)"
   ]
  },
  {
   "cell_type": "code",
   "execution_count": 65,
   "metadata": {},
   "outputs": [],
   "source": [
    "def visualization(image, result_string) -> np.ndarray:\n",
    "    text_location = (30, 50)\n",
    "    font_size = 4\n",
    "    font_color = (0, 0, 255)\n",
    "    font_thickness = 2\n",
    "    cv2.putText(image, result_string, text_location, cv2.FONT_HERSHEY_PLAIN, font_size, font_color, font_thickness)\n",
    "    \n",
    "    return image"
   ]
  },
  {
   "cell_type": "code",
   "execution_count": 66,
   "metadata": {},
   "outputs": [],
   "source": [
    "cv2_image = cv2.imread(image_path)\n",
    "\n",
    "annotated_image = visualization(cv2_image, result_string)\n",
    "\n",
    "cv2.imwrite(r\"W:\\tensorflow\\10 animals\\cv2 inference\\sheep.jpg\", annotated_image)\n",
    "\n",
    "# namedWindow fits a higher resolution image when using imshow\n",
    "cv2.namedWindow(\"sheep\", cv2.WINDOW_NORMAL)\n",
    "cv2.imshow(\"sheep\", annotated_image)\n",
    "cv2.waitKey(0)\n",
    "cv2.destroyAllWindows()"
   ]
  }
 ],
 "metadata": {
  "kernelspec": {
   "display_name": "Python 3",
   "language": "python",
   "name": "python3"
  },
  "language_info": {
   "codemirror_mode": {
    "name": "ipython",
    "version": 3
   },
   "file_extension": ".py",
   "mimetype": "text/x-python",
   "name": "python",
   "nbconvert_exporter": "python",
   "pygments_lexer": "ipython3",
   "version": "3.11.4"
  }
 },
 "nbformat": 4,
 "nbformat_minor": 2
}
